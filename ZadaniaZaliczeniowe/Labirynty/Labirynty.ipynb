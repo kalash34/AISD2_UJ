{
  "nbformat": 4,
  "nbformat_minor": 0,
  "metadata": {
    "colab": {
      "name": "Labirynty.ipynb",
      "provenance": [],
      "collapsed_sections": [],
      "toc_visible": true
    },
    "kernelspec": {
      "name": "python3",
      "display_name": "Python 3"
    },
    "language_info": {
      "name": "python"
    }
  },
  "cells": [
    {
      "cell_type": "markdown",
      "source": [
        "# Implementacja problemu budowania labiryntow.\n",
        "\n",
        "Inspirowane:\n",
        "\n",
        "https://ii.uni.wroc.pl/~wzychla/maze.html#:~:text=Taki%20uk%C5%82ad%20b%C4%99d%C4%99%20nazywa%C5%82%20zaczynem,szybki%2C%20dzia%C5%82a%20w%20czasie%20liniowym.\n",
        "\n",
        "Do reprezentacji labiryntu wykorzystamy graf.\n",
        "\n",
        "Wierzcholki sa sa kwadratami siatki, a krawedzie sa przejsciami\n",
        "miedzy sasiednimi kwadratami. Musimy jednak uscislic cechy\n",
        "naszego grafu aby uzyskac ladny efekt zarowno wizualnie jak\n",
        "i do rozwiazywania.\n",
        "\n",
        "Po lekturze powyzszego artykulu i obserwacji efektow widocznych w takich labiryntach mozemy zanotowac:\n",
        "\n",
        "*   Musi byc sciezka od wejscia do wyjscia\n",
        "*   Nie moze byc zbyt wiele takich sciezek\n",
        "*   Graf powinien byc raczej Singly Connected - istnieje\n",
        "tylko jedna sciezka dla kazdej pary wierzcholkow.\n",
        "Zeby nie generowac obszarow niemozliwych do odwiedzenia.\n",
        "*   Sciezka powinna miec wiele zakretow, labirynt bedzie\n",
        "zbyt prosty jak pominiemy ten punkt\n",
        "\n",
        "Mozna zauwazyc ze zwykle drzewo ma wiekszosc tych wlasnosci poza ostatnia.\n",
        "Wiec mozna wygenerowac drzewo pokrywajace kazdy kwadrat (cos jak MST).\n",
        "Nie otrzymamy wtedy komorek do ktorych sie nie da dojsc.\n",
        "I dodac do tego wiele zakretow w sciezkach.\n",
        "\n",
        "Mozna stworzyc Algorytm Modyfikujac najprostsze algorytmy Grafowe,\n",
        "takie jak BFS, DFS czy chociazby Kruskal (ktory zwraca MST).\n",
        "(BFS oraz DFS poprzez kolejne wywolania tworza drzewa, ktore czasami\n",
        "sa jednakowe, ale istotne jest to ze te zwracane drzewa mozna wykorzystac\n",
        "jako szkielet do labiryntu.)\n",
        "\n",
        "Szkic Rozwiazania:\n",
        "\n",
        "*   Zacznijmy z siatka bez krawedzi (kazdy kwadrat jest otoczony przez\n",
        "sciany na wszystkich stronach)\n",
        "*   Dodaj krawedzie (usuwajac sciany ) dla wejscia lewej gory oraz\n",
        "wyjscia z labiryntu z prawego dolu\n",
        "*   Umiesc korzen drzewa w jakims kwadracie.\n",
        "\n",
        "*   powtarzaj az drzewo pokryje wszystkie kwadraty - jakbysmy tworzyli MST:\n",
        "  * Wybierz dowolny wierzcholek ktory jest w drzewie\n",
        "  * Losowo wybierz sasiada ktory nie zostal jeszcze dodany do drzewa\n",
        "  * Dodaj krawedz (usuwamy sciane) z wezla do sasiada\n",
        "\n",
        "   \n",
        "Pokazujac na przykladzie, korzen, A zostal umieszczony w\n",
        "lewym-dolnym rogu. Wybrano dwie etykiety: A-B-C-D oraz a-b-c-d, \n",
        "losowo, (nie do konca losowo, zaczynaja one tworzyc labirynt jak w opisie).\n",
        "\n",
        "\n",
        "\n"
      ],
      "metadata": {
        "id": "rJfkfLSNj6nW"
      }
    },
    {
      "cell_type": "code",
      "source": [
        "\n",
        "Labirynt=\"\"\"\n",
        " +  +--+--+--+--+--+--+--+--+--+\n",
        " | A  b  c|  |  |  |  |  |  |  |\n",
        " +  +--+  +--+--+--+--+--+--+--+\n",
        " | B|  | d|  |  |  |  |  |  |  |\n",
        " +  +--+--+--+--+--+--+--+--+--+\n",
        " | C  D|  |  |  |  |  |  |  |  |\n",
        " +--+--+--+--+--+--+--+--+--+--+\n",
        " |  |  |  |  |  |  |  |  |  |  |\n",
        " +--+--+--+--+--+--+--+--+--+--+\n",
        " |  |  |  |  |  |  |  |  |  |  |\n",
        " +--+--+--+--+--+--+--+--+--+  +\n",
        "\"\"\"\n",
        "\n",
        "\n"
      ],
      "metadata": {
        "id": "ZtyP1IamupZc"
      },
      "execution_count": 3,
      "outputs": []
    },
    {
      "cell_type": "markdown",
      "source": [
        "\n",
        "\n",
        "Nastepnie wybieram wezel d i rozszerzam go do e (w tym punkcie nie ma\n",
        "dostepnych sasiadow, dlatego e nie bedzie wybrane w przyszlosci),\n",
        "Oraz wybieram D i rozszerzam stad po calej drodze do N, w kazdym kroku\n",
        "wybierajac wezel ktory wlasnie dodalem:"
      ],
      "metadata": {
        "id": "O7itn94Puu1y"
      }
    },
    {
      "cell_type": "code",
      "source": [
        " \n",
        " Labirynt=\"\"\"\n",
        " +  +--+--+--+--+--+--+--+--+--+\n",
        " | A  b  c|  |  |  |  |  |  |  |\n",
        " +  +--+  +--+--+--+--+--+--+--+\n",
        " | B| e  d|  | N|  |  |  |  |  |\n",
        " +  +--+--+--+  +--+--+--+--+--+\n",
        " | C  D|  |  | M|  |  |  |  |  |\n",
        " +--+  +--+--+  +--+--+--+--+--+\n",
        " | F  E|  |K  L |  |  |  |  |  |\n",
        " +  +--+--+  +--+--+--+--+--+--+\n",
        " | G  H  I  J|  |  |  |  |  |  |\n",
        " +--+--+--+--+--+--+--+--+--+  +\n",
        " \"\"\"\n",
        " \n",
        " \n",
        " \n",
        " \n",
        " "
      ],
      "metadata": {
        "id": "5cH5aL6avP1g"
      },
      "execution_count": 4,
      "outputs": []
    },
    {
      "cell_type": "markdown",
      "source": [
        "\n",
        "\n",
        "Kontynujemy w taki sposob az kazdy kazdy kwadrat w siatce zostanie dodany do drzewa. W tym punkcie bedzie sciezka od startu do celu. Niektore sciany zostana,\n",
        "inne zostana zburzone.\n",
        "\n",
        "\n",
        "\n",
        "\n",
        "\n"
      ],
      "metadata": {
        "id": "IZqk9qGLvUoE"
      }
    },
    {
      "cell_type": "markdown",
      "source": [
        "\n",
        "\n",
        "---\n",
        "\n"
      ],
      "metadata": {
        "id": "WBZuQK_sw6nh"
      }
    },
    {
      "cell_type": "markdown",
      "metadata": {
        "id": "onmHDx5s9FZI"
      },
      "source": [
        "\n",
        "\n",
        "\n",
        "\n",
        "# Drzewa Losowe\n",
        "Implementacja\n",
        "\n",
        "- Drzewo Reprezentowane jako zbior krawedzi\n",
        "- Krawedz `Edge` to tupla dwoch wierzcholkow\n",
        "- Krawedzie sa skierowane w obie strony, wiec\n",
        "aby uniknac pomylek, bedziemy uzywac tupli ktora jest posortowana:\n",
        "zawsze `(A, B)`, nigdy `(B, A)`. Konstruktor `edge` okresla to.\n",
        "- Wezlem w drzewie moze byc cokolwiek: liczba, litera,\n",
        "W naszej implementacji bedziemy tworzyc drzewa gdzie wezly to\n",
        "kwadraty w macierzy, ale funkcja `random_tree` akceptuje\n",
        "wezly kazdej postaci.\n",
        "- Algorytm dla `random_tree(nodes, neighbors, pop)` pracuje\n",
        "nastepujaco:\n",
        "  * Argumenty to:\n",
        "    - `nodes`: kolekcja wezlow\n",
        "    - `neighbors`: funkcja taka ze `neighbors(node)` zwraca zbior\n",
        "    wezlow\n",
        "    - `pop`: Funkcja taka ze `pop(frontier)` usuwa i zwraca element z `frontier`.\n",
        "  * Funkcja sledzi trzy kolekcje:\n",
        "    - `tree`: Zbior krawedzi tworzacych drzewo\n",
        "    - `nodes`: Zbior wezlow ktore jeszcze nie zostaly dodane do drzewa\n",
        "    ale beda\n",
        "    - `frontier`: kolejka wezlow w drzewie ktore sa wybieralne\n",
        "    do dodania krawedzi\n",
        "  * W kazdej Iteracji:\n",
        "    - Uzyj `pop` aby pobrac `node` z frontier, i znajdz neighbors ktore\n",
        "    nie sa jeszcze w drzewie\n",
        "    - Jesli sa sasiedzi, losowo wybierz (`nbr`), dodaj `edge(node, nbr)` do `tree`, usun\n",
        "      sasiadow z `nodes`, zatrzymaj wezel oraz sasiada w frontier.\n",
        "      Jesli nie ma sasiadow usun wezel z frontier.\n",
        "      \n",
        "  * Jezeli `nodes` zostanie, zwroc `tree`."
      ]
    },
    {
      "cell_type": "code",
      "source": [
        "# Pomocne Zrodlo\n",
        "# https://towardsdatascience.com/a-python-module-for-maze-search-algorithms-64e7d1297c96\n",
        "# W Definicjach funkcji uzyjemy annotacji -> do okreslania zwracanego typu.\n",
        "\n",
        "import random\n",
        "from collections import deque, namedtuple\n",
        "\n",
        "#Definicja Typow\n",
        "Edge = tuple\n",
        "Tree = set\n",
        "\n",
        "def edge(A, B) -> Edge: \n",
        "  return Edge(sorted([A, B]))\n",
        "\n",
        "def random_tree(nodes, neighbors, pop=deque.pop) -> Tree:\n",
        "    \"\"\" Powtarzaj: zdejmujemy wezel z podwojnej kolejki i dodajemy krawedz (wezel, sasiad) az wypelnimy drzewo \"\"\"\n",
        "    tree = Tree()\n",
        "    nodes = set(nodes)\n",
        "    root = nodes.pop()\n",
        "    frontier = deque([root])\n",
        "    while nodes:\n",
        "        node = pop(frontier)\n",
        "        nbrs = neighbors(node) & nodes\n",
        "        if nbrs:\n",
        "            nbr = random.choice(list(nbrs))\n",
        "            tree.add(edge(node, nbr))\n",
        "            nodes.remove(nbr)\n",
        "            frontier.extend([node, nbr])\n",
        "    return tree"
      ],
      "metadata": {
        "id": "38loBidQxK2t"
      },
      "execution_count": 6,
      "outputs": []
    },
    {
      "cell_type": "markdown",
      "source": [
        ""
      ],
      "metadata": {
        "id": "U2PGUNZdxPNC"
      }
    },
    {
      "cell_type": "markdown",
      "metadata": {
        "id": "Jemp8Z8_9FZR"
      },
      "source": [
        "# Tworzenie Losowych Labiryntow\n",
        "\n",
        "Uzyjmy `random_tree` do implementacji `random_maze`.  \n",
        "Bazowo, tworzymy kolekcje `(x, y)` kwadratow, przekazujemy je do `random_tree`, i pozwalamy temu zrobic robote.\n",
        "\n",
        "*  `Maze` to nazwana tupla z trzema polami,  `width` oraz `height`  naszej planszy, oraz zbior  `edges` miedzy kwadratami.\n",
        "* Kwadrat(komorka) jest oznaczony `(x, y)` tupla calkowitych zmiennych.\n",
        "* Funkcja `sasiedzi(square)` zwraca cztery otaczajace kwadraty."
      ]
    },
    {
      "cell_type": "code",
      "source": [
        "Labirynt = namedtuple('Maze', 'width, height, edges')\n",
        "\n",
        "# Kwadrat macierzy labiryntu - badamy jego sasiadow z czterech stron\n",
        "Kwadrat = tuple\n",
        "\n",
        "def sasiedzi(square) -> {Kwadrat}:\n",
        "    \"\"\" Sasiedzi 'kwadratu' labiryntu o wspolrzednych (x,y) czyli lewo, dol, gora, prawo \"\"\"\n",
        "    (x, y) = square\n",
        "    return {(x + 1, y), (x - 1, y), (x, y + 1), (x, y - 1)}\n",
        "\n",
        "def kwadraty(width, height) -> {Kwadrat}: \n",
        "    \"\"\"Wszystkie kwadraty (wezly) macierzy tych wymiarow \"\"\"\n",
        "    return {(x, y) for x in range(width) for y in range(height)}\n",
        "\n",
        "def losowy_labirynt(width, height, pop=deque.pop) -> Labirynt:\n",
        "    \"\"\"Generuj losowy labirynt, uzywajac drzewa losowego\"\"\"\n",
        "    tree = random_tree(kwadraty(width, height), sasiedzi, pop)\n",
        "    return Labirynt(width, height, tree)\n",
        "\n",
        "\n",
        "losowy_labirynt(20, 20)"
      ],
      "metadata": {
        "id": "tKDELp3-xK5U",
        "colab": {
          "base_uri": "https://localhost:8080/"
        },
        "outputId": "328ed433-9778-401c-e4ca-45345946542a"
      },
      "execution_count": 15,
      "outputs": [
        {
          "output_type": "execute_result",
          "data": {
            "text/plain": [
              "Maze(width=20, height=20, edges={((19, 12), (19, 13)), ((11, 4), (12, 4)), ((12, 15), (13, 15)), ((13, 5), (14, 5)), ((13, 9), (14, 9)), ((16, 12), (17, 12)), ((12, 8), (13, 8)), ((0, 6), (0, 7)), ((5, 7), (5, 8)), ((4, 10), (5, 10)), ((9, 18), (10, 18)), ((9, 15), (10, 15)), ((17, 3), (17, 4)), ((3, 14), (3, 15)), ((13, 3), (13, 4)), ((10, 3), (10, 4)), ((5, 2), (5, 3)), ((17, 8), (18, 8)), ((11, 2), (12, 2)), ((10, 9), (10, 10)), ((15, 0), (15, 1)), ((16, 0), (16, 1)), ((4, 7), (5, 7)), ((10, 11), (10, 12)), ((11, 15), (11, 16)), ((1, 0), (2, 0)), ((7, 11), (7, 12)), ((8, 5), (9, 5)), ((1, 2), (2, 2)), ((16, 19), (17, 19)), ((8, 12), (9, 12)), ((3, 10), (4, 10)), ((5, 5), (5, 6)), ((8, 6), (9, 6)), ((9, 13), (10, 13)), ((16, 5), (17, 5)), ((8, 18), (9, 18)), ((1, 9), (1, 10)), ((18, 17), (19, 17)), ((14, 10), (14, 11)), ((0, 11), (0, 12)), ((4, 4), (5, 4)), ((5, 12), (5, 13)), ((10, 7), (11, 7)), ((10, 1), (11, 1)), ((13, 15), (14, 15)), ((14, 15), (14, 16)), ((1, 7), (1, 8)), ((0, 12), (0, 13)), ((2, 10), (2, 11)), ((7, 10), (7, 11)), ((1, 15), (2, 15)), ((13, 19), (14, 19)), ((18, 17), (18, 18)), ((18, 4), (19, 4)), ((9, 15), (9, 16)), ((2, 4), (3, 4)), ((1, 6), (2, 6)), ((18, 13), (18, 14)), ((18, 2), (19, 2)), ((12, 0), (12, 1)), ((2, 7), (2, 8)), ((5, 10), (6, 10)), ((0, 3), (0, 4)), ((4, 18), (4, 19)), ((18, 0), (18, 1)), ((12, 6), (13, 6)), ((4, 0), (5, 0)), ((11, 19), (12, 19)), ((10, 19), (11, 19)), ((11, 12), (12, 12)), ((7, 14), (8, 14)), ((8, 7), (8, 8)), ((18, 18), (18, 19)), ((2, 12), (3, 12)), ((7, 12), (8, 12)), ((10, 16), (10, 17)), ((13, 8), (13, 9)), ((8, 8), (8, 9)), ((12, 4), (12, 5)), ((0, 8), (1, 8)), ((2, 18), (2, 19)), ((10, 3), (11, 3)), ((10, 18), (11, 18)), ((15, 9), (16, 9)), ((16, 9), (17, 9)), ((7, 17), (8, 17)), ((13, 18), (13, 19)), ((6, 4), (7, 4)), ((8, 17), (9, 17)), ((14, 2), (14, 3)), ((8, 0), (9, 0)), ((17, 12), (18, 12)), ((17, 7), (18, 7)), ((2, 14), (3, 14)), ((2, 3), (3, 3)), ((16, 15), (17, 15)), ((14, 3), (15, 3)), ((15, 8), (15, 9)), ((15, 10), (16, 10)), ((11, 3), (12, 3)), ((0, 0), (1, 0)), ((18, 12), (18, 13)), ((17, 14), (18, 14)), ((6, 17), (6, 18)), ((17, 19), (18, 19)), ((3, 19), (4, 19)), ((13, 6), (13, 7)), ((14, 4), (14, 5)), ((4, 11), (5, 11)), ((4, 17), (4, 18)), ((0, 13), (0, 14)), ((6, 0), (6, 1)), ((18, 7), (19, 7)), ((3, 17), (3, 18)), ((9, 14), (9, 15)), ((17, 15), (18, 15)), ((9, 4), (10, 4)), ((8, 18), (8, 19)), ((4, 5), (4, 6)), ((9, 1), (9, 2)), ((13, 13), (13, 14)), ((6, 14), (6, 15)), ((0, 5), (0, 6)), ((0, 1), (1, 1)), ((10, 2), (11, 2)), ((9, 18), (9, 19)), ((9, 3), (10, 3)), ((16, 2), (17, 2)), ((16, 4), (16, 5)), ((18, 19), (19, 19)), ((4, 9), (5, 9)), ((0, 0), (0, 1)), ((1, 16), (1, 17)), ((1, 7), (2, 7)), ((9, 1), (10, 1)), ((8, 2), (9, 2)), ((5, 0), (5, 1)), ((17, 15), (17, 16)), ((6, 8), (7, 8)), ((2, 4), (2, 5)), ((7, 0), (7, 1)), ((3, 7), (3, 8)), ((10, 7), (10, 8)), ((15, 11), (15, 12)), ((11, 17), (12, 17)), ((0, 4), (0, 5)), ((9, 0), (10, 0)), ((13, 11), (14, 11)), ((6, 11), (6, 12)), ((5, 8), (5, 9)), ((14, 18), (14, 19)), ((8, 16), (9, 16)), ((10, 17), (11, 17)), ((0, 16), (1, 16)), ((8, 13), (9, 13)), ((12, 5), (12, 6)), ((12, 1), (13, 1)), ((6, 15), (7, 15)), ((11, 13), (12, 13)), ((16, 8), (17, 8)), ((12, 16), (13, 16)), ((10, 14), (11, 14)), ((6, 2), (7, 2)), ((5, 18), (5, 19)), ((13, 0), (13, 1)), ((12, 12), (12, 13)), ((8, 10), (9, 10)), ((7, 5), (7, 6)), ((19, 14), (19, 15)), ((13, 4), (13, 5)), ((7, 13), (7, 14)), ((1, 10), (2, 10)), ((3, 13), (4, 13)), ((13, 8), (14, 8)), ((17, 0), (18, 0)), ((4, 3), (5, 3)), ((2, 9), (3, 9)), ((0, 11), (1, 11)), ((6, 3), (6, 4)), ((4, 8), (4, 9)), ((6, 7), (7, 7)), ((5, 11), (5, 12)), ((10, 0), (11, 0)), ((19, 16), (19, 17)), ((10, 13), (10, 14)), ((4, 15), (5, 15)), ((0, 19), (1, 19)), ((7, 17), (7, 18)), ((3, 2), (4, 2)), ((0, 1), (0, 2)), ((15, 15), (15, 16)), ((19, 1), (19, 2)), ((9, 19), (10, 19)), ((17, 1), (17, 2)), ((15, 13), (15, 14)), ((16, 1), (17, 1)), ((3, 15), (3, 16)), ((19, 6), (19, 7)), ((7, 13), (8, 13)), ((0, 8), (0, 9)), ((8, 11), (9, 11)), ((11, 7), (11, 8)), ((5, 4), (5, 5)), ((3, 2), (3, 3)), ((8, 14), (8, 15)), ((19, 7), (19, 8)), ((5, 6), (6, 6)), ((9, 9), (10, 9)), ((6, 12), (7, 12)), ((16, 10), (16, 11)), ((4, 6), (4, 7)), ((15, 14), (16, 14)), ((6, 8), (6, 9)), ((14, 16), (14, 17)), ((9, 6), (9, 7)), ((15, 7), (15, 8)), ((3, 4), (3, 5)), ((11, 9), (11, 10)), ((3, 9), (4, 9)), ((0, 6), (1, 6)), ((1, 13), (2, 13)), ((11, 0), (11, 1)), ((1, 18), (1, 19)), ((16, 6), (16, 7)), ((6, 13), (6, 14)), ((5, 2), (6, 2)), ((2, 12), (2, 13)), ((0, 15), (0, 16)), ((5, 1), (6, 1)), ((11, 6), (11, 7)), ((14, 0), (14, 1)), ((16, 3), (16, 4)), ((6, 6), (7, 6)), ((18, 16), (18, 17)), ((9, 12), (10, 12)), ((10, 10), (11, 10)), ((7, 4), (8, 4)), ((0, 3), (1, 3)), ((15, 3), (16, 3)), ((7, 1), (7, 2)), ((3, 13), (3, 14)), ((13, 7), (14, 7)), ((13, 11), (13, 12)), ((19, 8), (19, 9)), ((6, 9), (6, 10)), ((11, 9), (12, 9)), ((15, 0), (16, 0)), ((18, 2), (18, 3)), ((14, 4), (15, 4)), ((8, 2), (8, 3)), ((0, 9), (0, 10)), ((13, 12), (14, 12)), ((1, 3), (1, 4)), ((5, 13), (6, 13)), ((18, 11), (19, 11)), ((3, 10), (3, 11)), ((17, 10), (18, 10)), ((9, 7), (9, 8)), ((3, 6), (3, 7)), ((7, 5), (8, 5)), ((6, 16), (6, 17)), ((16, 17), (17, 17)), ((13, 0), (14, 0)), ((5, 19), (6, 19)), ((1, 17), (2, 17)), ((19, 3), (19, 4)), ((2, 0), (3, 0)), ((15, 6), (16, 6)), ((1, 18), (2, 18)), ((1, 14), (1, 15)), ((12, 1), (12, 2)), ((7, 11), (8, 11)), ((14, 1), (15, 1)), ((9, 8), (9, 9)), ((18, 5), (18, 6)), ((18, 10), (19, 10)), ((1, 11), (1, 12)), ((4, 15), (4, 16)), ((15, 16), (16, 16)), ((12, 2), (13, 2)), ((9, 4), (9, 5)), ((15, 4), (15, 5)), ((3, 16), (3, 17)), ((4, 14), (5, 14)), ((15, 12), (16, 12)), ((15, 2), (16, 2)), ((11, 7), (12, 7)), ((17, 5), (18, 5)), ((0, 17), (0, 18)), ((4, 1), (4, 2)), ((14, 7), (15, 7)), ((16, 16), (16, 17)), ((14, 15), (15, 15)), ((14, 13), (15, 13)), ((18, 3), (19, 3)), ((3, 12), (4, 12)), ((12, 15), (12, 16)), ((8, 4), (9, 4)), ((7, 15), (7, 16)), ((3, 18), (4, 18)), ((11, 18), (12, 18)), ((1, 1), (2, 1)), ((16, 13), (17, 13)), ((14, 10), (15, 10)), ((5, 18), (6, 18)), ((1, 4), (1, 5)), ((5, 15), (6, 15)), ((17, 10), (17, 11)), ((13, 17), (13, 18)), ((14, 18), (15, 18)), ((2, 2), (2, 3)), ((14, 14), (14, 15)), ((1, 2), (1, 3)), ((12, 3), (13, 3)), ((12, 17), (13, 17)), ((7, 0), (8, 0)), ((7, 16), (7, 17)), ((12, 9), (12, 10)), ((8, 15), (8, 16)), ((2, 5), (2, 6)), ((11, 8), (12, 8)), ((17, 5), (17, 6)), ((9, 10), (9, 11)), ((6, 4), (6, 5)), ((2, 16), (2, 17)), ((7, 19), (8, 19)), ((15, 5), (15, 6)), ((16, 11), (17, 11)), ((12, 10), (12, 11)), ((18, 8), (18, 9)), ((14, 9), (15, 9)), ((11, 14), (12, 14)), ((2, 8), (3, 8)), ((7, 7), (7, 8)), ((19, 18), (19, 19)), ((4, 17), (5, 17)), ((7, 3), (8, 3)), ((18, 1), (19, 1)), ((18, 6), (19, 6)), ((10, 11), (11, 11)), ((1, 13), (1, 14)), ((17, 4), (18, 4)), ((10, 5), (11, 5)), ((14, 12), (15, 12)), ((17, 13), (17, 14)), ((12, 14), (13, 14)), ((14, 6), (14, 7)), ((14, 17), (15, 17)), ((19, 11), (19, 12)), ((4, 3), (4, 4)), ((2, 15), (3, 15)), ((0, 9), (1, 9)), ((7, 1), (8, 1)), ((19, 15), (19, 16)), ((3, 5), (4, 5)), ((3, 0), (3, 1)), ((3, 6), (4, 6)), ((17, 9), (18, 9)), ((19, 4), (19, 5)), ((17, 16), (17, 17)), ((10, 5), (10, 6)), ((3, 1), (4, 1)), ((2, 19), (3, 19)), ((19, 9), (19, 10)), ((16, 0), (17, 0)), ((8, 9), (8, 10)), ((5, 16), (6, 16)), ((3, 0), (4, 0)), ((13, 13), (14, 13)), ((16, 7), (17, 7)), ((0, 18), (0, 19)), ((0, 14), (0, 15)), ((13, 9), (13, 10)), ((0, 16), (0, 17)), ((1, 11), (2, 11)), ((16, 18), (17, 18)), ((12, 11), (12, 12)), ((3, 9), (3, 10)), ((11, 11), (11, 12)), ((16, 18), (16, 19)), ((11, 4), (11, 5)), ((9, 6), (10, 6)), ((10, 15), (10, 16)), ((6, 19), (7, 19)), ((19, 13), (19, 14)), ((7, 7), (8, 7)), ((19, 0), (19, 1)), ((4, 16), (5, 16)), ((7, 9), (7, 10)), ((15, 17), (15, 18)), ((18, 15), (19, 15)), ((16, 13), (16, 14)), ((12, 19), (13, 19)), ((4, 13), (4, 14)), ((11, 16), (12, 16)), ((14, 2), (15, 2)), ((15, 19), (16, 19)), ((4, 11), (4, 12))})"
            ]
          },
          "metadata": {},
          "execution_count": 15
        }
      ]
    },
    {
      "cell_type": "markdown",
      "metadata": {
        "id": "i9l16hGz9FZU"
      },
      "source": [
        "# Wizualizacja Labiryntu\n",
        "\n",
        "Uzyjemy `matplotlib` do narysowania scian labiryntu.\n",
        "Spojrzymy w przyszlosc kiedy bedziemy miec wynikowa sciezke\n",
        "i pozwolimy zeby byla wypisana."
      ]
    },
    {
      "cell_type": "code",
      "source": [
        "%matplotlib inline\n",
        "import matplotlib.pyplot as plt\n",
        "\n",
        "def draw_maze(maze, figsize=None, path=None):\n",
        "    \"\"\"Wypisz labirynt przez rysowanie linii miedzy sasiednimi kwadratami, poza parami w maze.edges\"\"\"\n",
        "    w, h  = maze.width, maze.height\n",
        "    plt.figure(figsize=figsize or (w/5, h/5))\n",
        "    plt.axis('off')\n",
        "    plt.gca().invert_yaxis()\n",
        "    exits = {edge((0, 0), (0, -1)), edge((w-1, h-1), (w-1, h))}\n",
        "    edges = maze.edges | exits\n",
        "    for sq in kwadraty(w, h):\n",
        "        for nbr in sasiedzi(sq):\n",
        "            if edge(sq, nbr) not in edges:\n",
        "                plot_wall(sq, nbr)\n",
        "    if path: \n",
        "             # Wypisz Rozwiazanie (albo jakakolwiek sciezke) jako czerwona linie przez labirynt\n",
        "        X, Y = transpose((x + 0.5, y + 0.5) for (x, y) in path)\n",
        "        plt.plot(X, Y, 'r-', linewidth=2)\n",
        "        \n",
        "# Transponowanie Macierzy\n",
        "def transpose(matrix): \n",
        "  return list(zip(*matrix))\n",
        "\n",
        "def plot_wall(squareA, squareB):\n",
        "    \"\"\" Narysuj Sciane: czarna linie miedzy kwadratami A oraz B \"\"\"\n",
        "    (x1, y1), (x2, y2) = squareA, squareB\n",
        "    if x1 == x2: # pozioma sciana\n",
        "        y = max(y1, y2)\n",
        "        X, Y = [x1, x1+1], [y, y]\n",
        "    else:        # pionowa sciana\n",
        "        x = max(x1, x2)\n",
        "        X, Y = [x, x], [y1, y1+1]\n",
        "    plt.plot(X, Y, 'k-', linewidth=2)\n",
        "\n",
        "\n",
        "M = losowy_labirynt(10, 5)\n",
        "draw_maze(M, figsize=(5, 2.5)) \n",
        "\n",
        "\n",
        "# Zapisanie Labiryntu do pliku png oraz pdf\n",
        "plt.savefig('labirynt.png')\n",
        "#plt.savefig('labirynt.pdf')\n",
        "\n",
        "\n"
      ],
      "metadata": {
        "id": "PbW45WVkxasF",
        "colab": {
          "base_uri": "https://localhost:8080/",
          "height": 167
        },
        "outputId": "ec41a4f6-66c2-443b-eda8-15e3e8cfd4e7"
      },
      "execution_count": 16,
      "outputs": [
        {
          "output_type": "display_data",
          "data": {
            "text/plain": [
              "<Figure size 360x180 with 1 Axes>"
            ],
            "image/png": "[encoded data removed]"
          },
          "metadata": {
            "needs_background": "light"
          }
        }
      ]
    },
    {
      "cell_type": "markdown",
      "metadata": {
        "id": "DmIOBpvg9FZZ"
      },
      "source": [
        "# Znajdowanie Sciezki W Labiryncie\n",
        "\n",
        "Uzyjemy BFS'a ktory gwarantuje ze wynik bedzie\n",
        "najkrotszy mozliwy. (Ale dla labiryntow z tylko jednym rozwiazaniem\n",
        "gwarancja nie ma znaczenia)\n",
        "\n",
        "`BFS` okresla `frontier` nieodwiedzonych kwadratow, i w kazdej iteracji usuwa kwadrat z frontier ktory jest sciezka o najmniejszej glebokosci, dodaje do frontier wszystkich sasiadow tego kwadratu ktorzy nie sa zablokowani przez\n",
        "sciany i nie zostali wczesniej odwiedzeni.\n",
        "Slownik  `{square: [square,...]}` nazwany `paths`\n",
        "ma dwa cele: zapobiega nas od tworzenia petli w sciezce,\n",
        "i na koncu mowi nam sciezke od startu do celu.\n",
        "Przykladowo:\n",
        "\n",
        " `[(0, 0), (0, 1), (1, 1), (2, 1), ...]`."
      ]
    },
    {
      "cell_type": "code",
      "source": [
        "def BFS(maze):\n",
        "    \"\"\" Najkrotszy ciag stanow od poczatku do konca \"\"\"\n",
        "    start = (0, 0)\n",
        "    goal = (maze.width - 1, maze.height - 1)\n",
        "    frontier = deque([start])  # Kolejka stanow do rozwazenia (dwustronna)\n",
        "    paths = {start: [start]}   # start ma jedno-kwadratowa sciezke\n",
        "    while frontier:\n",
        "        s = frontier.popleft()\n",
        "        if s == goal:\n",
        "            return paths[s]\n",
        "        for s2 in sasiedzi(s):\n",
        "            if s2 not in paths and edge(s, s2) in maze.edges:\n",
        "                frontier.append(s2)\n",
        "                paths[s2] = paths.get(s, []) + [s2]\n",
        "\n",
        "\n",
        "solution = BFS(M)\n",
        "solution\n",
        "\n",
        "\n",
        "draw_maze(M, figsize=(5, 2.5), path=solution)"
      ],
      "metadata": {
        "id": "lgAMWe6axmzH",
        "colab": {
          "base_uri": "https://localhost:8080/",
          "height": 167
        },
        "outputId": "24eca389-25a7-4fe0-f9c6-2cdb2e893260"
      },
      "execution_count": 17,
      "outputs": [
        {
          "output_type": "display_data",
          "data": {
            "text/plain": [
              "<Figure size 360x180 with 1 Axes>"
            ],
            "image/png": "[encoded data removed]"
          },
          "metadata": {
            "needs_background": "light"
          }
        }
      ]
    },
    {
      "cell_type": "markdown",
      "metadata": {
        "id": "CBDGR-sn9FZb"
      },
      "source": [
        "\n",
        "# Strategie dla 'pop' parametru dla `random maze`\n",
        "Teraz chce porownac jak labirynt zmienia\n",
        "sie w zaleznosci od trzech wyborow\n",
        "dla parametru `pop`\n",
        "\n",
        "# `pop=deque.pop`\n",
        "\n",
        "Standardowa metoda pop, `deque.pop`, oznacza ze drzewo jest tworzone **depth-first**; zawsze wybieramy `node` na koncu **end** z `frontier`, \n",
        "wiec drzewo podaza za pojedyncza galezia losowo zakreconej sciezki dopoki\n",
        "sciezka podwoi sie z powrotem i nie ma wiecej sasiadow. \n",
        "W tym punkcie wybieramy najbardziej ostatni kwadrat dla ktorego sa sasiedzi\n",
        "i kontynuujemy stad. \n",
        "Labirynt z `deque.pop` wyglada lepiej.\n"
      ]
    },
    {
      "cell_type": "code",
      "source": [
        "def show(pop):\n",
        "    \"\"\" Uzywanie 'pop' parametru, zeby pokazac labirynt 70x70, najpierw bez sciezki rozwiazujacej, pozniej z rozwiazaniem \"\"\"\n",
        "    M = losowy_labirynt(70, 70, pop)\n",
        "    draw_maze(M)\n",
        "    plt.show()\n",
        "    solution = BFS(M)\n",
        "    draw_maze(M, path=[(0, -1)] + solution + [(M.width - 1, M.height)])\n",
        "    return len(solution)\n",
        "\n",
        "show(deque.pop)"
      ],
      "metadata": {
        "id": "hxT8pvVBxyKz",
        "colab": {
          "base_uri": "https://localhost:8080/",
          "height": 1000
        },
        "outputId": "9a2c5b94-e809-482f-8044-e0de2ba68d1b"
      },
      "execution_count": 19,
      "outputs": [
        {
          "output_type": "display_data",
          "data": {
            "text/plain": [
              "<Figure size 1008x1008 with 1 Axes>"
            ],
            "image/png": "[encoded data removed]"
          },
          "metadata": {
            "needs_background": "light"
          }
        },
        {
          "output_type": "execute_result",
          "data": {
            "text/plain": [
              "763"
            ]
          },
          "metadata": {},
          "execution_count": 19
        },
        {
          "output_type": "display_data",
          "data": {
            "text/plain": [
              "<Figure size 1008x1008 with 1 Axes>"
            ],
            "image/png": "[encoded data removed]"
          },
          "metadata": {
            "needs_background": "light"
          }
        }
      ]
    },
    {
      "cell_type": "markdown",
      "metadata": {
        "id": "n7bdhds99FZc"
      },
      "source": [
        "# `pop=deque.popleft`\n",
        "\n",
        "Ta strategia zdejmowania z kolejki z lewej strony tworzy labirynt przez\n",
        "**Breadth-First** - startujemy w jakims kwadracie oznaczonym jako korzen,\n",
        "dodajemy krawedz do niego, i stad zawsze wybieramy pierwsze krawedz rodzica\n",
        "zanim wybierzemy krawedz dziecka.\n",
        "Wynik sieci to design ktory wydaje sie miec efekt w koncentrycznych warstwach\n",
        "z korzenia (ktory jest wybrany przez `random_tree` i nie jest koniecznie\n",
        "gornym lewym kwadratem. Ponizej pojawia sie korzen w lewym prawym rogu.\n",
        "`deque.popleft` labirynt jest interesujacy jako design, ale moze nie dzialac\n",
        "jako pokazowy labirynt dla rozwiazywania. Jest zbyt latwy do przejscia.\n",
        "(Podazaj za sciezka od startu do korzenia, wtedy rozwaz sciezke z konca do korzenia, i sprawdz jak sie dopasowuja ).\n",
        "\n"
      ]
    },
    {
      "cell_type": "code",
      "source": [
        "show(deque.popleft)"
      ],
      "metadata": {
        "id": "mwNox0dlx9QM"
      },
      "execution_count": null,
      "outputs": []
    },
    {
      "cell_type": "markdown",
      "metadata": {
        "id": "clRrWR9W9FZd"
      },
      "source": [
        "# `pop=poprandom`\n",
        "\n",
        "Mozemy losowo wybierac opcje dla parametru pop.\n",
        "To interesujacy kompromis: labirynt ma odpowiednia strukture i wyglada\n",
        "ladnie jako labirynt, ale pomimo tego sciezka nadal jest krotka jak w\n",
        "`pop=popleft` - w ilosci zakretow efektywniejsze jest znaczaco\n",
        "`pop=deque.pop` .\n"
      ]
    },
    {
      "cell_type": "code",
      "source": [
        "def poprandom(seq):\n",
        "    \"\"\" Wybierz i zwroc losowy element, usun go z ciagu \"\"\"\n",
        "    element = random.choice(seq)\n",
        "    seq.remove(element)\n",
        "    return element\n",
        "\n",
        "show(poprandom)"
      ],
      "metadata": {
        "id": "hkBXwOCOyB8J",
        "colab": {
          "base_uri": "https://localhost:8080/",
          "height": 1000
        },
        "outputId": "76ddfd07-229e-4ef0-f84f-78373fd1febd"
      },
      "execution_count": 20,
      "outputs": [
        {
          "output_type": "display_data",
          "data": {
            "text/plain": [
              "<Figure size 1008x1008 with 1 Axes>"
            ],
            "image/png": "[encoded data removed]"
          },
          "metadata": {
            "needs_background": "light"
          }
        },
        {
          "output_type": "execute_result",
          "data": {
            "text/plain": [
              "141"
            ]
          },
          "metadata": {},
          "execution_count": 20
        },
        {
          "output_type": "display_data",
          "data": {
            "text/plain": [
              "<Figure size 1008x1008 with 1 Axes>"
            ],
            "image/png": "[encoded data removed]"
          },
          "metadata": {
            "needs_background": "light"
          }
        }
      ]
    }
  ]
}